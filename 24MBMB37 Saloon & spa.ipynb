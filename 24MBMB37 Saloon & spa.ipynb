{
 "cells": [
  {
   "cell_type": "code",
   "execution_count": 0,
   "metadata": {
    "application/vnd.databricks.v1+cell": {
     "cellMetadata": {
      "byteLimit": 2048000,
      "rowLimit": 10000
     },
     "inputWidgets": {},
     "nuid": "e302cc4d-27a0-4982-b2f4-388e16f2976f",
     "showTitle": false,
     "tableResultSettingsMap": {},
     "title": ""
    }
   },
   "outputs": [],
   "source": [
    "# Load from Databricks workspace tables\n",
    "bookings = spark.table(\"workspace.default.bookings\")\n",
    "customers = spark.table(\"workspace.default.customers\")\n",
    "\n",
    "# Register as SQL views (for SQL queries later)\n",
    "bookings.createOrReplaceTempView(\"Bookings\")\n",
    "customers.createOrReplaceTempView(\"Customers\")"
   ]
  },
  {
   "cell_type": "code",
   "execution_count": 0,
   "metadata": {
    "application/vnd.databricks.v1+cell": {
     "cellMetadata": {
      "byteLimit": 2048000,
      "rowLimit": 10000
     },
     "inputWidgets": {},
     "nuid": "b9bfc98b-3b5a-46ba-a4fc-68ae5698d63f",
     "showTitle": false,
     "tableResultSettingsMap": {},
     "title": ""
    }
   },
   "outputs": [
    {
     "output_type": "stream",
     "name": "stdout",
     "output_type": "stream",
     "text": [
      "+-------------+--------------+\n|      Service|Total_Bookings|\n+-------------+--------------+\n|      Massage|            18|\n|Hair Coloring|            15|\n|       Facial|            14|\n|  Spa Therapy|            13|\n|   Beard Trim|            12|\n|     Manicure|            10|\n|     Pedicure|            10|\n|      Haircut|             8|\n+-------------+--------------+\n\n"
     ]
    },
    {
     "output_type": "display_data",
     "data": {
      "text/html": [
       "<style scoped>\n",
       "  .table-result-container {\n",
       "    max-height: 300px;\n",
       "    overflow: auto;\n",
       "  }\n",
       "  table, th, td {\n",
       "    border: 1px solid black;\n",
       "    border-collapse: collapse;\n",
       "  }\n",
       "  th, td {\n",
       "    padding: 5px;\n",
       "  }\n",
       "  th {\n",
       "    text-align: left;\n",
       "  }\n",
       "</style><div class='table-result-container'><table class='table-result'><thead style='background-color: white'><tr><th>Service</th><th>Total_Bookings</th></tr></thead><tbody><tr><td>Massage</td><td>18</td></tr><tr><td>Hair Coloring</td><td>15</td></tr><tr><td>Facial</td><td>14</td></tr><tr><td>Spa Therapy</td><td>13</td></tr><tr><td>Beard Trim</td><td>12</td></tr><tr><td>Manicure</td><td>10</td></tr><tr><td>Pedicure</td><td>10</td></tr><tr><td>Haircut</td><td>8</td></tr></tbody></table></div>"
      ]
     },
     "metadata": {
      "application/vnd.databricks.v1+output": {
       "addedWidgets": {},
       "aggData": [],
       "aggError": "",
       "aggOverflow": false,
       "aggSchema": [],
       "aggSeriesLimitReached": false,
       "aggType": "",
       "arguments": {},
       "columnCustomDisplayInfos": {},
       "data": [
        [
         "Massage",
         18
        ],
        [
         "Hair Coloring",
         15
        ],
        [
         "Facial",
         14
        ],
        [
         "Spa Therapy",
         13
        ],
        [
         "Beard Trim",
         12
        ],
        [
         "Manicure",
         10
        ],
        [
         "Pedicure",
         10
        ],
        [
         "Haircut",
         8
        ]
       ],
       "datasetInfos": [],
       "dbfsResultPath": null,
       "isJsonSchema": true,
       "metadata": {},
       "overflow": false,
       "plotOptions": {
        "customPlotOptions": {},
        "displayType": "table",
        "pivotAggregation": null,
        "pivotColumns": null,
        "xColumns": null,
        "yColumns": null
       },
       "removedWidgets": [],
       "schema": [
        {
         "metadata": "{}",
         "name": "Service",
         "type": "\"string\""
        },
        {
         "metadata": "{}",
         "name": "Total_Bookings",
         "type": "\"long\""
        }
       ],
       "type": "table"
      }
     },
     "output_type": "display_data"
    },
    {
     "output_type": "display_data",
     "data": {
      "text/plain": [
       "Databricks visualization. Run in Databricks to view."
      ]
     },
     "metadata": {
      "application/vnd.databricks.v1.subcommand+json": {
       "baseErrorDetails": null,
       "bindings": {},
       "collapsed": false,
       "command": "%python\n__backend_agg_display_orig = display\n__backend_agg_dfs = []\ndef __backend_agg_display_new(df):\n    __backend_agg_df_modules = [\"pandas.core.frame\", \"databricks.koalas.frame\", \"pyspark.sql.dataframe\", \"pyspark.pandas.frame\", \"pyspark.sql.connect.dataframe\"]\n    if (type(df).__module__ in __backend_agg_df_modules and type(df).__name__ == 'DataFrame') or isinstance(df, list):\n        __backend_agg_dfs.append(df)\n\ndisplay = __backend_agg_display_new\n\ndef __backend_agg_user_code_fn():\n    import base64\n    exec(base64.standard_b64decode(\"ZnJvbSBweXNwYXJrLnNxbC5mdW5jdGlvbnMgaW1wb3J0IGNvbCwgY291bnQKCnBvcHVsYXJfc2VydmljZXMgPSAoYm9va2luZ3MKICAgIC5ncm91cEJ5KCJTZXJ2aWNlIikKICAgIC5hZ2coY291bnQoIioiKS5hbGlhcygiVG90YWxfQm9va2luZ3MiKSkKICAgIC5vcmRlckJ5KGNvbCgiVG90YWxfQm9va2luZ3MiKS5kZXNjKCkpCikKCnBvcHVsYXJfc2VydmljZXMuc2hvdygpCnBvcHVsYXJfc2VydmljZXMuZGlzcGxheSgp\").decode())\n\ntry:\n    # run user code\n    __backend_agg_user_code_fn()\n\n    #reset display function\n    display = __backend_agg_display_orig\n\n    if len(__backend_agg_dfs) > 0:\n        # create a temp view\n        if type(__backend_agg_dfs[0]).__module__ == \"databricks.koalas.frame\":\n            # koalas dataframe\n            __backend_agg_dfs[0].to_spark().createOrReplaceTempView(\"DatabricksView3e63514\")\n        elif type(__backend_agg_dfs[0]).__module__ == \"pandas.core.frame\" or isinstance(__backend_agg_dfs[0], list):\n            # pandas dataframe\n            spark.createDataFrame(__backend_agg_dfs[0]).createOrReplaceTempView(\"DatabricksView3e63514\")\n        else:\n            __backend_agg_dfs[0].createOrReplaceTempView(\"DatabricksView3e63514\")\n        #run backend agg\n        display(spark.sql(\"\"\"WITH q AS (select * from DatabricksView3e63514) SELECT `Service`,SUM(`Total_Bookings`) `column_3e2970b4177` FROM q GROUP BY `Service`\"\"\"))\n    else:\n        displayHTML(\"dataframe no longer exists. If you're using dataframe.display(), use display(dataframe) instead.\")\n\n\nfinally:\n    spark.sql(\"drop view if exists DatabricksView3e63514\")\n    display = __backend_agg_display_orig\n    del __backend_agg_display_new\n    del __backend_agg_display_orig\n    del __backend_agg_dfs\n    del __backend_agg_user_code_fn\n\n",
       "commandTitle": "Visualization 1",
       "commandType": "auto",
       "commandVersion": 0,
       "commentThread": [],
       "commentsVisible": false,
       "contentSha256Hex": null,
       "customPlotOptions": {
        "redashChart": [
         {
          "key": "type",
          "value": "CHART"
         },
         {
          "key": "options",
          "value": {
           "alignYAxesAtZero": true,
           "coefficient": 1,
           "columnConfigurationMap": {
            "x": {
             "column": "Service",
             "id": "column_3e2970b4176"
            },
            "y": [
             {
              "column": "Total_Bookings",
              "id": "column_3e2970b4177",
              "transform": "SUM"
             }
            ]
           },
           "dateTimeFormat": "DD/MM/YYYY HH:mm",
           "direction": {
            "type": "counterclockwise"
           },
           "error_y": {
            "type": "data",
            "visible": true
           },
           "globalSeriesType": "column",
           "legend": {
            "traceorder": "normal"
           },
           "missingValuesAsZero": true,
           "numberFormat": "0,0.[00000]",
           "percentFormat": "0[.]00%",
           "series": {
            "error_y": {
             "type": "data",
             "visible": true
            },
            "stacking": null
           },
           "seriesOptions": {
            "column_3e2970b4177": {
             "name": "Total_Bookings",
             "yAxis": 0
            }
           },
           "showDataLabels": false,
           "sizemode": "diameter",
           "sortX": true,
           "sortY": true,
           "swappedAxes": true,
           "textFormat": "",
           "useAggregationsUi": true,
           "valuesOptions": {},
           "version": 2,
           "xAxis": {
            "labels": {
             "enabled": true
            },
            "type": "-"
           },
           "yAxis": [
            {
             "type": "-"
            },
            {
             "opposite": true,
             "type": "-"
            }
           ]
          }
         }
        ]
       },
       "datasetPreviewNameToCmdIdMap": {},
       "diffDeletes": [],
       "diffInserts": [],
       "displayType": "redashChart",
       "error": null,
       "errorDetails": null,
       "errorSummary": null,
       "errorTraceType": null,
       "finishTime": 0,
       "globalVars": {},
       "guid": "",
       "height": "auto",
       "hideCommandCode": false,
       "hideCommandResult": false,
       "iPythonMetadata": null,
       "inputWidgets": {},
       "isLockedInExamMode": false,
       "latestAssumeRoleInfo": null,
       "latestUser": "a user",
       "latestUserId": null,
       "listResultMetadata": null,
       "metadata": {
        "byteLimit": 2048000,
        "rowLimit": 10000
       },
       "nuid": "d5f4f760-121e-4170-b298-7271e61e6d84",
       "origId": 0,
       "parentHierarchy": [],
       "pivotAggregation": null,
       "pivotColumns": null,
       "position": 5.0,
       "resultDbfsErrorMessage": null,
       "resultDbfsStatus": "INLINED_IN_TREE",
       "results": null,
       "showCommandTitle": false,
       "startTime": 0,
       "state": "finished",
       "streamStates": {},
       "subcommandOptions": {
        "queryPlan": {
         "groups": [
          {
           "column": "Service",
           "type": "column"
          }
         ],
         "selects": [
          {
           "column": "Service",
           "type": "column"
          },
          {
           "alias": "column_3e2970b4177",
           "args": [
            {
             "column": "Total_Bookings",
             "type": "column"
            }
           ],
           "function": "SUM",
           "type": "function"
          }
         ]
        }
       },
       "submitTime": 0,
       "subtype": "tableResultSubCmd.visualization",
       "tableResultIndex": 0,
       "tableResultSettingsMap": {},
       "useConsistentColors": false,
       "version": "CommandV1",
       "width": "auto",
       "workflows": [],
       "xColumns": null,
       "yColumns": null
      }
     },
     "output_type": "display_data"
    }
   ],
   "source": [
    "from pyspark.sql.functions import col, count\n",
    "\n",
    "popular_services = (bookings\n",
    "    .groupBy(\"Service\")\n",
    "    .agg(count(\"*\").alias(\"Total_Bookings\"))\n",
    "    .orderBy(col(\"Total_Bookings\").desc())\n",
    ")\n",
    "\n",
    "popular_services.show()\n",
    "popular_services.display()"
   ]
  },
  {
   "cell_type": "code",
   "execution_count": 0,
   "metadata": {
    "application/vnd.databricks.v1+cell": {
     "cellMetadata": {
      "byteLimit": 2048000,
      "rowLimit": 10000
     },
     "inputWidgets": {},
     "nuid": "a37c38ff-af58-43e7-99cc-1366d2e1e295",
     "showTitle": false,
     "tableResultSettingsMap": {},
     "title": ""
    }
   },
   "outputs": [
    {
     "output_type": "stream",
     "name": "stdout",
     "output_type": "stream",
     "text": [
      "+----+--------------+\n|Hour|Bookings_Count|\n+----+--------------+\n|  17|            13|\n|  13|            10|\n|   9|            10|\n|  10|            10|\n|  19|             9|\n|  15|             9|\n|  20|             9|\n|  12|             8|\n|  14|             8|\n|  18|             7|\n|  16|             6|\n|  11|             1|\n+----+--------------+\n\n"
     ]
    },
    {
     "output_type": "display_data",
     "data": {
      "text/html": [
       "<style scoped>\n",
       "  .table-result-container {\n",
       "    max-height: 300px;\n",
       "    overflow: auto;\n",
       "  }\n",
       "  table, th, td {\n",
       "    border: 1px solid black;\n",
       "    border-collapse: collapse;\n",
       "  }\n",
       "  th, td {\n",
       "    padding: 5px;\n",
       "  }\n",
       "  th {\n",
       "    text-align: left;\n",
       "  }\n",
       "</style><div class='table-result-container'><table class='table-result'><thead style='background-color: white'><tr><th>Hour</th><th>Bookings_Count</th></tr></thead><tbody><tr><td>17</td><td>13</td></tr><tr><td>13</td><td>10</td></tr><tr><td>9</td><td>10</td></tr><tr><td>10</td><td>10</td></tr><tr><td>19</td><td>9</td></tr><tr><td>15</td><td>9</td></tr><tr><td>20</td><td>9</td></tr><tr><td>12</td><td>8</td></tr><tr><td>14</td><td>8</td></tr><tr><td>18</td><td>7</td></tr><tr><td>16</td><td>6</td></tr><tr><td>11</td><td>1</td></tr></tbody></table></div>"
      ]
     },
     "metadata": {
      "application/vnd.databricks.v1+output": {
       "addedWidgets": {},
       "aggData": [],
       "aggError": "",
       "aggOverflow": false,
       "aggSchema": [],
       "aggSeriesLimitReached": false,
       "aggType": "",
       "arguments": {},
       "columnCustomDisplayInfos": {},
       "data": [
        [
         17,
         13
        ],
        [
         13,
         10
        ],
        [
         9,
         10
        ],
        [
         10,
         10
        ],
        [
         19,
         9
        ],
        [
         15,
         9
        ],
        [
         20,
         9
        ],
        [
         12,
         8
        ],
        [
         14,
         8
        ],
        [
         18,
         7
        ],
        [
         16,
         6
        ],
        [
         11,
         1
        ]
       ],
       "datasetInfos": [],
       "dbfsResultPath": null,
       "isJsonSchema": true,
       "metadata": {},
       "overflow": false,
       "plotOptions": {
        "customPlotOptions": {},
        "displayType": "table",
        "pivotAggregation": null,
        "pivotColumns": null,
        "xColumns": null,
        "yColumns": null
       },
       "removedWidgets": [],
       "schema": [
        {
         "metadata": "{}",
         "name": "Hour",
         "type": "\"integer\""
        },
        {
         "metadata": "{}",
         "name": "Bookings_Count",
         "type": "\"long\""
        }
       ],
       "type": "table"
      }
     },
     "output_type": "display_data"
    },
    {
     "output_type": "display_data",
     "data": {
      "text/plain": [
       "Databricks visualization. Run in Databricks to view."
      ]
     },
     "metadata": {
      "application/vnd.databricks.v1.subcommand+json": {
       "baseErrorDetails": null,
       "bindings": {},
       "collapsed": false,
       "command": "%python\n__backend_agg_display_orig = display\n__backend_agg_dfs = []\ndef __backend_agg_display_new(df):\n    __backend_agg_df_modules = [\"pandas.core.frame\", \"databricks.koalas.frame\", \"pyspark.sql.dataframe\", \"pyspark.pandas.frame\", \"pyspark.sql.connect.dataframe\"]\n    if (type(df).__module__ in __backend_agg_df_modules and type(df).__name__ == 'DataFrame') or isinstance(df, list):\n        __backend_agg_dfs.append(df)\n\ndisplay = __backend_agg_display_new\n\ndef __backend_agg_user_code_fn():\n    import base64\n    exec(base64.standard_b64decode(\"ZnJvbSBweXNwYXJrLnNxbC5mdW5jdGlvbnMgaW1wb3J0IGhvdXIKCnBlYWtfdGltZXMgPSAoYm9va2luZ3MKICAgIC53aXRoQ29sdW1uKCJIb3VyIiwgaG91cihjb2woIlRpbWUiKSkpCiAgICAuZ3JvdXBCeSgiSG91ciIpCiAgICAuYWdnKGNvdW50KCIqIikuYWxpYXMoIkJvb2tpbmdzX0NvdW50IikpCiAgICAub3JkZXJCeShjb2woIkJvb2tpbmdzX0NvdW50IikuZGVzYygpKQopCgpwZWFrX3RpbWVzLnNob3coKQpwZWFrX3RpbWVzLmRpc3BsYXkoKQ==\").decode())\n\ntry:\n    # run user code\n    __backend_agg_user_code_fn()\n\n    #reset display function\n    display = __backend_agg_display_orig\n\n    if len(__backend_agg_dfs) > 0:\n        # create a temp view\n        if type(__backend_agg_dfs[0]).__module__ == \"databricks.koalas.frame\":\n            # koalas dataframe\n            __backend_agg_dfs[0].to_spark().createOrReplaceTempView(\"DatabricksView7c8c5fe\")\n        elif type(__backend_agg_dfs[0]).__module__ == \"pandas.core.frame\" or isinstance(__backend_agg_dfs[0], list):\n            # pandas dataframe\n            spark.createDataFrame(__backend_agg_dfs[0]).createOrReplaceTempView(\"DatabricksView7c8c5fe\")\n        else:\n            __backend_agg_dfs[0].createOrReplaceTempView(\"DatabricksView7c8c5fe\")\n        #run backend agg\n        display(spark.sql(\"\"\"WITH q AS (select * from DatabricksView7c8c5fe) SELECT `Hour`,SUM(`Bookings_Count`) `column_3e2970b4180` FROM q GROUP BY `Hour`\"\"\"))\n    else:\n        displayHTML(\"dataframe no longer exists. If you're using dataframe.display(), use display(dataframe) instead.\")\n\n\nfinally:\n    spark.sql(\"drop view if exists DatabricksView7c8c5fe\")\n    display = __backend_agg_display_orig\n    del __backend_agg_display_new\n    del __backend_agg_display_orig\n    del __backend_agg_dfs\n    del __backend_agg_user_code_fn\n\n",
       "commandTitle": "Visualization 1",
       "commandType": "auto",
       "commandVersion": 0,
       "commentThread": [],
       "commentsVisible": false,
       "contentSha256Hex": null,
       "customPlotOptions": {
        "redashChart": [
         {
          "key": "type",
          "value": "CHART"
         },
         {
          "key": "options",
          "value": {
           "alignYAxesAtZero": true,
           "coefficient": 1,
           "columnConfigurationMap": {
            "x": {
             "column": "Hour",
             "id": "column_3e2970b4179"
            },
            "y": [
             {
              "column": "Bookings_Count",
              "id": "column_3e2970b4180",
              "transform": "SUM"
             }
            ]
           },
           "dateTimeFormat": "DD/MM/YYYY HH:mm",
           "direction": {
            "type": "counterclockwise"
           },
           "error_y": {
            "type": "data",
            "visible": true
           },
           "globalSeriesType": "line",
           "isAggregationOn": true,
           "legend": {
            "traceorder": "normal"
           },
           "missingValuesAsZero": true,
           "numberFormat": "0,0.[00000]",
           "percentFormat": "0[.]00%",
           "series": {
            "error_y": {
             "type": "data",
             "visible": true
            },
            "stacking": null
           },
           "seriesOptions": {
            "column_3e2970b4180": {
             "color": "#FF3621",
             "name": "Bookings_Count",
             "type": "line",
             "yAxis": 0
            }
           },
           "showDataLabels": false,
           "sizemode": "diameter",
           "sortX": true,
           "sortY": true,
           "swappedAxes": false,
           "textFormat": "",
           "useAggregationsUi": true,
           "valuesOptions": {},
           "version": 2,
           "xAxis": {
            "labels": {
             "enabled": true
            },
            "type": "-"
           },
           "yAxis": [
            {
             "type": "-"
            },
            {
             "opposite": true,
             "type": "-"
            }
           ]
          }
         }
        ]
       },
       "datasetPreviewNameToCmdIdMap": {},
       "diffDeletes": [],
       "diffInserts": [],
       "displayType": "redashChart",
       "error": null,
       "errorDetails": null,
       "errorSummary": null,
       "errorTraceType": null,
       "finishTime": 0,
       "globalVars": {},
       "guid": "",
       "height": "auto",
       "hideCommandCode": false,
       "hideCommandResult": false,
       "iPythonMetadata": null,
       "inputWidgets": {},
       "isLockedInExamMode": false,
       "latestAssumeRoleInfo": null,
       "latestUser": "a user",
       "latestUserId": null,
       "listResultMetadata": null,
       "metadata": {
        "byteLimit": 2048000,
        "rowLimit": 10000
       },
       "nuid": "065ac598-6e57-4d24-8ee7-a949c4118acc",
       "origId": 0,
       "parentHierarchy": [],
       "pivotAggregation": null,
       "pivotColumns": null,
       "position": 6.0,
       "resultDbfsErrorMessage": null,
       "resultDbfsStatus": "INLINED_IN_TREE",
       "results": null,
       "showCommandTitle": false,
       "startTime": 0,
       "state": "finished",
       "streamStates": {},
       "subcommandOptions": {
        "queryPlan": {
         "groups": [
          {
           "column": "Hour",
           "type": "column"
          }
         ],
         "selects": [
          {
           "column": "Hour",
           "type": "column"
          },
          {
           "alias": "column_3e2970b4180",
           "args": [
            {
             "column": "Bookings_Count",
             "type": "column"
            }
           ],
           "function": "SUM",
           "type": "function"
          }
         ]
        }
       },
       "submitTime": 0,
       "subtype": "tableResultSubCmd.visualization",
       "tableResultIndex": 0,
       "tableResultSettingsMap": {},
       "useConsistentColors": false,
       "version": "CommandV1",
       "width": "auto",
       "workflows": [],
       "xColumns": null,
       "yColumns": null
      }
     },
     "output_type": "display_data"
    }
   ],
   "source": [
    "from pyspark.sql.functions import hour\n",
    "\n",
    "peak_times = (bookings\n",
    "    .withColumn(\"Hour\", hour(col(\"Time\")))\n",
    "    .groupBy(\"Hour\")\n",
    "    .agg(count(\"*\").alias(\"Bookings_Count\"))\n",
    "    .orderBy(col(\"Bookings_Count\").desc())\n",
    ")\n",
    "\n",
    "peak_times.show()\n",
    "peak_times.display()"
   ]
  },
  {
   "cell_type": "code",
   "execution_count": 0,
   "metadata": {
    "application/vnd.databricks.v1+cell": {
     "cellMetadata": {
      "byteLimit": 2048000,
      "implicitDf": true,
      "rowLimit": 10000
     },
     "inputWidgets": {},
     "nuid": "b6c22269-074e-4b6c-9af2-0f8b54f16e39",
     "showTitle": false,
     "tableResultSettingsMap": {},
     "title": ""
    }
   },
   "outputs": [
    {
     "output_type": "display_data",
     "data": {
      "text/html": [
       "<style scoped>\n",
       "  .table-result-container {\n",
       "    max-height: 300px;\n",
       "    overflow: auto;\n",
       "  }\n",
       "  table, th, td {\n",
       "    border: 1px solid black;\n",
       "    border-collapse: collapse;\n",
       "  }\n",
       "  th, td {\n",
       "    padding: 5px;\n",
       "  }\n",
       "  th {\n",
       "    text-align: left;\n",
       "  }\n",
       "</style><div class='table-result-container'><table class='table-result'><thead style='background-color: white'><tr><th>Service</th><th>Total_Revenue</th><th>Avg_Revenue_Per_Booking</th></tr></thead><tbody><tr><td>Massage</td><td>34607</td><td>1922.611111111111</td></tr><tr><td>Hair Coloring</td><td>25647</td><td>1709.8</td></tr><tr><td>Spa Therapy</td><td>22029</td><td>1694.5384615384614</td></tr><tr><td>Facial</td><td>21555</td><td>1539.642857142857</td></tr><tr><td>Beard Trim</td><td>17831</td><td>1485.9166666666667</td></tr><tr><td>Manicure</td><td>16420</td><td>1642.0</td></tr><tr><td>Pedicure</td><td>15372</td><td>1537.2</td></tr><tr><td>Haircut</td><td>10125</td><td>1265.625</td></tr></tbody></table></div>"
      ]
     },
     "metadata": {
      "application/vnd.databricks.v1+output": {
       "addedWidgets": {},
       "aggData": [],
       "aggError": "",
       "aggOverflow": false,
       "aggSchema": [],
       "aggSeriesLimitReached": false,
       "aggType": "",
       "arguments": {},
       "columnCustomDisplayInfos": {},
       "data": [
        [
         "Massage",
         34607,
         1922.611111111111
        ],
        [
         "Hair Coloring",
         25647,
         1709.8
        ],
        [
         "Spa Therapy",
         22029,
         1694.5384615384614
        ],
        [
         "Facial",
         21555,
         1539.642857142857
        ],
        [
         "Beard Trim",
         17831,
         1485.9166666666667
        ],
        [
         "Manicure",
         16420,
         1642.0
        ],
        [
         "Pedicure",
         15372,
         1537.2
        ],
        [
         "Haircut",
         10125,
         1265.625
        ]
       ],
       "datasetInfos": [
        {
         "name": "_sqldf",
         "schema": {
          "fields": [
           {
            "metadata": {},
            "name": "Service",
            "nullable": true,
            "type": "string"
           },
           {
            "metadata": {},
            "name": "Total_Revenue",
            "nullable": true,
            "type": "long"
           },
           {
            "metadata": {},
            "name": "Avg_Revenue_Per_Booking",
            "nullable": true,
            "type": "double"
           }
          ],
          "type": "struct"
         },
         "tableIdentifier": null,
         "typeStr": "pyspark.sql.connect.dataframe.DataFrame"
        }
       ],
       "dbfsResultPath": null,
       "isJsonSchema": true,
       "metadata": {
        "createTempViewForImplicitDf": true,
        "dataframeName": "_sqldf",
        "executionCount": 64
       },
       "overflow": false,
       "plotOptions": {
        "customPlotOptions": {},
        "displayType": "table",
        "pivotAggregation": null,
        "pivotColumns": null,
        "xColumns": null,
        "yColumns": null
       },
       "removedWidgets": [],
       "schema": [
        {
         "metadata": "{}",
         "name": "Service",
         "type": "\"string\""
        },
        {
         "metadata": "{}",
         "name": "Total_Revenue",
         "type": "\"long\""
        },
        {
         "metadata": "{}",
         "name": "Avg_Revenue_Per_Booking",
         "type": "\"double\""
        }
       ],
       "type": "table"
      }
     },
     "output_type": "display_data"
    },
    {
     "output_type": "display_data",
     "data": {
      "text/plain": [
       "Databricks visualization. Run in Databricks to view."
      ]
     },
     "metadata": {
      "application/vnd.databricks.v1.subcommand+json": {
       "baseErrorDetails": null,
       "bindings": {},
       "collapsed": false,
       "command": "%sql WITH q AS (SELECT Service, \n       SUM(Amount) AS Total_Revenue, \n       AVG(Amount) AS Avg_Revenue_Per_Booking\nFROM workspace.default.bookings\nGROUP BY Service\nORDER BY Total_Revenue DESC) SELECT `Total_Revenue`,`Avg_Revenue_Per_Booking` FROM q",
       "commandTitle": "Visualization 1",
       "commandType": "auto",
       "commandVersion": 0,
       "commentThread": [],
       "commentsVisible": false,
       "contentSha256Hex": null,
       "customPlotOptions": {
        "redashChart": [
         {
          "key": "type",
          "value": "CHART"
         },
         {
          "key": "options",
          "value": {
           "alignYAxesAtZero": true,
           "coefficient": 1,
           "columnConfigurationMap": {
            "x": {
             "column": "Total_Revenue",
             "id": "column_3e2970b4182"
            },
            "y": [
             {
              "column": "Avg_Revenue_Per_Booking",
              "id": "column_3e2970b4183"
             }
            ]
           },
           "dateTimeFormat": "DD/MM/YYYY HH:mm",
           "direction": {
            "type": "counterclockwise"
           },
           "error_y": {
            "type": "data",
            "visible": true
           },
           "globalSeriesType": "bubble",
           "legend": {
            "traceorder": "normal"
           },
           "missingValuesAsZero": true,
           "numberFormat": "0,0.[00000]",
           "percentFormat": "0[.]00%",
           "series": {
            "error_y": {
             "type": "data",
             "visible": true
            },
            "stacking": null
           },
           "seriesOptions": {
            "Avg_Revenue_Per_Booking": {
             "color": "#FFAB00",
             "name": "Avg_Revenue_Per_Booking",
             "type": "bubble",
             "yAxis": 0
            },
            "column_3e2970b4183": {
             "name": "Avg_Revenue_Per_Booking",
             "type": "bubble",
             "yAxis": 0
            }
           },
           "showDataLabels": false,
           "sizemode": "diameter",
           "sortX": true,
           "sortY": true,
           "swappedAxes": false,
           "textFormat": "",
           "useAggregationsUi": true,
           "valuesOptions": {},
           "version": 2,
           "xAxis": {
            "labels": {
             "enabled": true
            },
            "type": "-"
           },
           "yAxis": [
            {
             "type": "-"
            },
            {
             "opposite": true,
             "type": "-"
            }
           ]
          }
         }
        ]
       },
       "datasetPreviewNameToCmdIdMap": {},
       "diffDeletes": [],
       "diffInserts": [],
       "displayType": "redashChart",
       "error": null,
       "errorDetails": null,
       "errorSummary": null,
       "errorTraceType": null,
       "finishTime": 0,
       "globalVars": {},
       "guid": "",
       "height": "auto",
       "hideCommandCode": false,
       "hideCommandResult": false,
       "iPythonMetadata": null,
       "inputWidgets": {},
       "isLockedInExamMode": false,
       "latestAssumeRoleInfo": null,
       "latestUser": "a user",
       "latestUserId": null,
       "listResultMetadata": null,
       "metadata": {
        "byteLimit": 2048000,
        "implicitDf": true,
        "rowLimit": 10000
       },
       "nuid": "01b01856-5585-4292-a992-6a7d609de695",
       "origId": 0,
       "parentHierarchy": [],
       "pivotAggregation": null,
       "pivotColumns": null,
       "position": 7.0,
       "resultDbfsErrorMessage": null,
       "resultDbfsStatus": "INLINED_IN_TREE",
       "results": null,
       "showCommandTitle": false,
       "startTime": 0,
       "state": "finished",
       "streamStates": {},
       "subcommandOptions": {
        "queryPlan": {
         "selects": [
          {
           "column": "Total_Revenue",
           "type": "column"
          },
          {
           "column": "Avg_Revenue_Per_Booking",
           "type": "column"
          }
         ]
        }
       },
       "submitTime": 0,
       "subtype": "tableResultSubCmd.visualization",
       "tableResultIndex": 0,
       "tableResultSettingsMap": {},
       "useConsistentColors": false,
       "version": "CommandV1",
       "width": "auto",
       "workflows": [],
       "xColumns": null,
       "yColumns": null
      }
     },
     "output_type": "display_data"
    }
   ],
   "source": [
    "%sql\n",
    "SELECT Service, \n",
    "       SUM(Amount) AS Total_Revenue, \n",
    "       AVG(Amount) AS Avg_Revenue_Per_Booking\n",
    "FROM workspace.default.bookings\n",
    "GROUP BY Service\n",
    "ORDER BY Total_Revenue DESC;\n"
   ]
  },
  {
   "cell_type": "code",
   "execution_count": 0,
   "metadata": {
    "application/vnd.databricks.v1+cell": {
     "cellMetadata": {
      "byteLimit": 2048000,
      "implicitDf": true,
      "rowLimit": 10000
     },
     "inputWidgets": {},
     "nuid": "8b19d375-1538-4cd1-a966-7a00bb911ea3",
     "showTitle": false,
     "tableResultSettingsMap": {},
     "title": ""
    }
   },
   "outputs": [
    {
     "output_type": "display_data",
     "data": {
      "text/html": [
       "<style scoped>\n",
       "  .table-result-container {\n",
       "    max-height: 300px;\n",
       "    overflow: auto;\n",
       "  }\n",
       "  table, th, td {\n",
       "    border: 1px solid black;\n",
       "    border-collapse: collapse;\n",
       "  }\n",
       "  th, td {\n",
       "    padding: 5px;\n",
       "  }\n",
       "  th {\n",
       "    text-align: left;\n",
       "  }\n",
       "</style><div class='table-result-container'><table class='table-result'><thead style='background-color: white'><tr><th>Customer_ID</th><th>Name</th><th>Total_Visits</th></tr></thead><tbody><tr><td>CUST033</td><td>Riya</td><td>8</td></tr><tr><td>CUST036</td><td>Saanvi</td><td>5</td></tr><tr><td>CUST015</td><td>Kavya</td><td>5</td></tr><tr><td>CUST028</td><td>Kavya</td><td>5</td></tr><tr><td>CUST014</td><td>Saanvi</td><td>5</td></tr><tr><td>CUST005</td><td>Arjun</td><td>4</td></tr><tr><td>CUST001</td><td>Riya</td><td>4</td></tr><tr><td>CUST016</td><td>Arjun</td><td>4</td></tr><tr><td>CUST035</td><td>Aadhya</td><td>4</td></tr><tr><td>CUST008</td><td>Kavya</td><td>3</td></tr><tr><td>CUST043</td><td>Aadhya</td><td>3</td></tr><tr><td>CUST048</td><td>Riya</td><td>3</td></tr><tr><td>CUST040</td><td>Riya</td><td>3</td></tr><tr><td>CUST041</td><td>Krishna</td><td>3</td></tr><tr><td>CUST002</td><td>Aditya</td><td>3</td></tr><tr><td>CUST023</td><td>Neha</td><td>2</td></tr><tr><td>CUST020</td><td>Riya</td><td>2</td></tr><tr><td>CUST031</td><td>Diya</td><td>2</td></tr><tr><td>CUST009</td><td>Riya</td><td>2</td></tr><tr><td>CUST025</td><td>Saanvi</td><td>2</td></tr><tr><td>CUST042</td><td>Rohan</td><td>2</td></tr><tr><td>CUST045</td><td>Riya</td><td>2</td></tr><tr><td>CUST044</td><td>Isha</td><td>2</td></tr><tr><td>CUST024</td><td>Riya</td><td>2</td></tr><tr><td>CUST012</td><td>Rohan</td><td>2</td></tr><tr><td>CUST010</td><td>Kavya</td><td>2</td></tr></tbody></table></div>"
      ]
     },
     "metadata": {
      "application/vnd.databricks.v1+output": {
       "addedWidgets": {},
       "aggData": [],
       "aggError": "",
       "aggOverflow": false,
       "aggSchema": [],
       "aggSeriesLimitReached": false,
       "aggType": "",
       "arguments": {},
       "columnCustomDisplayInfos": {},
       "data": [
        [
         "CUST033",
         "Riya",
         8
        ],
        [
         "CUST036",
         "Saanvi",
         5
        ],
        [
         "CUST015",
         "Kavya",
         5
        ],
        [
         "CUST028",
         "Kavya",
         5
        ],
        [
         "CUST014",
         "Saanvi",
         5
        ],
        [
         "CUST005",
         "Arjun",
         4
        ],
        [
         "CUST001",
         "Riya",
         4
        ],
        [
         "CUST016",
         "Arjun",
         4
        ],
        [
         "CUST035",
         "Aadhya",
         4
        ],
        [
         "CUST008",
         "Kavya",
         3
        ],
        [
         "CUST043",
         "Aadhya",
         3
        ],
        [
         "CUST048",
         "Riya",
         3
        ],
        [
         "CUST040",
         "Riya",
         3
        ],
        [
         "CUST041",
         "Krishna",
         3
        ],
        [
         "CUST002",
         "Aditya",
         3
        ],
        [
         "CUST023",
         "Neha",
         2
        ],
        [
         "CUST020",
         "Riya",
         2
        ],
        [
         "CUST031",
         "Diya",
         2
        ],
        [
         "CUST009",
         "Riya",
         2
        ],
        [
         "CUST025",
         "Saanvi",
         2
        ],
        [
         "CUST042",
         "Rohan",
         2
        ],
        [
         "CUST045",
         "Riya",
         2
        ],
        [
         "CUST044",
         "Isha",
         2
        ],
        [
         "CUST024",
         "Riya",
         2
        ],
        [
         "CUST012",
         "Rohan",
         2
        ],
        [
         "CUST010",
         "Kavya",
         2
        ]
       ],
       "datasetInfos": [
        {
         "name": "_sqldf",
         "schema": {
          "fields": [
           {
            "metadata": {},
            "name": "Customer_ID",
            "nullable": true,
            "type": "string"
           },
           {
            "metadata": {},
            "name": "Name",
            "nullable": true,
            "type": "string"
           },
           {
            "metadata": {},
            "name": "Total_Visits",
            "nullable": false,
            "type": "long"
           }
          ],
          "type": "struct"
         },
         "tableIdentifier": null,
         "typeStr": "pyspark.sql.connect.dataframe.DataFrame"
        }
       ],
       "dbfsResultPath": null,
       "isJsonSchema": true,
       "metadata": {
        "createTempViewForImplicitDf": true,
        "dataframeName": "_sqldf",
        "executionCount": 65
       },
       "overflow": false,
       "plotOptions": {
        "customPlotOptions": {},
        "displayType": "table",
        "pivotAggregation": null,
        "pivotColumns": null,
        "xColumns": null,
        "yColumns": null
       },
       "removedWidgets": [],
       "schema": [
        {
         "metadata": "{}",
         "name": "Customer_ID",
         "type": "\"string\""
        },
        {
         "metadata": "{}",
         "name": "Name",
         "type": "\"string\""
        },
        {
         "metadata": "{}",
         "name": "Total_Visits",
         "type": "\"long\""
        }
       ],
       "type": "table"
      }
     },
     "output_type": "display_data"
    },
    {
     "output_type": "display_data",
     "data": {
      "text/plain": [
       "Databricks visualization. Run in Databricks to view."
      ]
     },
     "metadata": {
      "application/vnd.databricks.v1.subcommand+json": {
       "baseErrorDetails": null,
       "bindings": {},
       "collapsed": false,
       "command": "%sql WITH q AS (SELECT c.Customer_ID, c.Name, COUNT(b.Booking_ID) AS Total_Visits\nFROM workspace.default.customers c\nJOIN workspace.default.bookings b \n  ON c.Customer_ID = b.Customer_ID\nGROUP BY c.Customer_ID, c.Name\nHAVING COUNT(b.Booking_ID) > 1\nORDER BY Total_Visits DESC) SELECT `Name`,SUM(`Total_Visits`) `column_3e2970b4193` FROM q GROUP BY `Name`",
       "commandTitle": "Visualization 1",
       "commandType": "auto",
       "commandVersion": 0,
       "commentThread": [],
       "commentsVisible": false,
       "contentSha256Hex": null,
       "customPlotOptions": {
        "redashChart": [
         {
          "key": "type",
          "value": "CHART"
         },
         {
          "key": "options",
          "value": {
           "alignYAxesAtZero": true,
           "coefficient": 1,
           "columnConfigurationMap": {
            "x": {
             "column": "Name",
             "id": "column_3e2970b4191"
            },
            "y": [
             {
              "column": "Total_Visits",
              "id": "column_3e2970b4193",
              "transform": "SUM"
             }
            ]
           },
           "dateTimeFormat": "DD/MM/YYYY HH:mm",
           "direction": {
            "type": "counterclockwise"
           },
           "error_y": {
            "type": "data",
            "visible": true
           },
           "globalSeriesType": "column",
           "isAggregationOn": true,
           "legend": {
            "traceorder": "normal"
           },
           "missingValuesAsZero": true,
           "numberFormat": "0,0.[00000]",
           "percentFormat": "0[.]00%",
           "series": {
            "error_y": {
             "type": "data",
             "visible": true
            },
            "stacking": null
           },
           "seriesOptions": {
            "column_3e2970b4193": {
             "color": "#AB4057",
             "type": "column",
             "yAxis": 0
            }
           },
           "showDataLabels": false,
           "sizemode": "diameter",
           "sortX": true,
           "sortY": true,
           "swappedAxes": false,
           "textFormat": "",
           "useAggregationsUi": true,
           "valuesOptions": {},
           "version": 2,
           "xAxis": {
            "labels": {
             "enabled": true
            },
            "type": "-"
           },
           "yAxis": [
            {
             "type": "-"
            },
            {
             "opposite": true,
             "type": "-"
            }
           ]
          }
         }
        ]
       },
       "datasetPreviewNameToCmdIdMap": {},
       "diffDeletes": [],
       "diffInserts": [],
       "displayType": "redashChart",
       "error": null,
       "errorDetails": null,
       "errorSummary": null,
       "errorTraceType": null,
       "finishTime": 0,
       "globalVars": {},
       "guid": "",
       "height": "auto",
       "hideCommandCode": false,
       "hideCommandResult": false,
       "iPythonMetadata": null,
       "inputWidgets": {},
       "isLockedInExamMode": false,
       "latestAssumeRoleInfo": null,
       "latestUser": "a user",
       "latestUserId": null,
       "listResultMetadata": null,
       "metadata": {
        "byteLimit": 2048000,
        "implicitDf": true,
        "rowLimit": 10000
       },
       "nuid": "0a07abee-f49d-47c4-932a-1a0cd7cbebfb",
       "origId": 0,
       "parentHierarchy": [],
       "pivotAggregation": null,
       "pivotColumns": null,
       "position": 8.0,
       "resultDbfsErrorMessage": null,
       "resultDbfsStatus": "INLINED_IN_TREE",
       "results": null,
       "showCommandTitle": false,
       "startTime": 0,
       "state": "finished",
       "streamStates": {},
       "subcommandOptions": {
        "queryPlan": {
         "groups": [
          {
           "column": "Name",
           "type": "column"
          }
         ],
         "selects": [
          {
           "column": "Name",
           "type": "column"
          },
          {
           "alias": "column_3e2970b4193",
           "args": [
            {
             "column": "Total_Visits",
             "type": "column"
            }
           ],
           "function": "SUM",
           "type": "function"
          }
         ]
        }
       },
       "submitTime": 0,
       "subtype": "tableResultSubCmd.visualization",
       "tableResultIndex": 0,
       "tableResultSettingsMap": {},
       "useConsistentColors": false,
       "version": "CommandV1",
       "width": "auto",
       "workflows": [],
       "xColumns": null,
       "yColumns": null
      }
     },
     "output_type": "display_data"
    }
   ],
   "source": [
    "%sql\n",
    "SELECT c.Customer_ID, c.Name, COUNT(b.Booking_ID) AS Total_Visits\n",
    "FROM workspace.default.customers c\n",
    "JOIN workspace.default.bookings b \n",
    "  ON c.Customer_ID = b.Customer_ID\n",
    "GROUP BY c.Customer_ID, c.Name\n",
    "HAVING COUNT(b.Booking_ID) > 1\n",
    "ORDER BY Total_Visits DESC;\n"
   ]
  },
  {
   "cell_type": "code",
   "execution_count": 0,
   "metadata": {
    "application/vnd.databricks.v1+cell": {
     "cellMetadata": {
      "byteLimit": 2048000,
      "implicitDf": true,
      "rowLimit": 10000
     },
     "inputWidgets": {},
     "nuid": "5962a3d8-2f08-4f46-9a83-93e12d934fe7",
     "showTitle": false,
     "tableResultSettingsMap": {
      "0": {
       "dataGridStateBlob": "{\"version\":1,\"tableState\":{\"columnPinning\":{\"left\":[\"#row_number#\"],\"right\":[]},\"columnSizing\":{\"Total_Revenue\":129},\"columnVisibility\":{}},\"settings\":{\"columns\":{}},\"syncTimestamp\":1758114599287}",
       "filterBlob": null,
       "queryPlanFiltersBlob": null,
       "tableResultIndex": 0
      }
     },
     "title": ""
    }
   },
   "outputs": [
    {
     "output_type": "display_data",
     "data": {
      "text/html": [
       "<style scoped>\n",
       "  .table-result-container {\n",
       "    max-height: 300px;\n",
       "    overflow: auto;\n",
       "  }\n",
       "  table, th, td {\n",
       "    border: 1px solid black;\n",
       "    border-collapse: collapse;\n",
       "  }\n",
       "  th, td {\n",
       "    padding: 5px;\n",
       "  }\n",
       "  th {\n",
       "    text-align: left;\n",
       "  }\n",
       "</style><div class='table-result-container'><table class='table-result'><thead style='background-color: white'><tr><th>Staff_ID</th><th>Total_Services</th><th>Total_Revenue</th></tr></thead><tbody><tr><td>STF09</td><td>12</td><td>21283</td></tr><tr><td>STF10</td><td>12</td><td>20680</td></tr><tr><td>STF05</td><td>11</td><td>19889</td></tr><tr><td>STF02</td><td>12</td><td>18237</td></tr><tr><td>STF04</td><td>12</td><td>17969</td></tr><tr><td>STF03</td><td>12</td><td>17731</td></tr><tr><td>STF06</td><td>11</td><td>17600</td></tr><tr><td>STF08</td><td>8</td><td>15620</td></tr><tr><td>STF07</td><td>5</td><td>9795</td></tr><tr><td>STF01</td><td>5</td><td>4782</td></tr></tbody></table></div>"
      ]
     },
     "metadata": {
      "application/vnd.databricks.v1+output": {
       "addedWidgets": {},
       "aggData": [],
       "aggError": "",
       "aggOverflow": false,
       "aggSchema": [],
       "aggSeriesLimitReached": false,
       "aggType": "",
       "arguments": {},
       "columnCustomDisplayInfos": {},
       "data": [
        [
         "STF09",
         12,
         21283
        ],
        [
         "STF10",
         12,
         20680
        ],
        [
         "STF05",
         11,
         19889
        ],
        [
         "STF02",
         12,
         18237
        ],
        [
         "STF04",
         12,
         17969
        ],
        [
         "STF03",
         12,
         17731
        ],
        [
         "STF06",
         11,
         17600
        ],
        [
         "STF08",
         8,
         15620
        ],
        [
         "STF07",
         5,
         9795
        ],
        [
         "STF01",
         5,
         4782
        ]
       ],
       "datasetInfos": [
        {
         "name": "_sqldf",
         "schema": {
          "fields": [
           {
            "metadata": {},
            "name": "Staff_ID",
            "nullable": true,
            "type": "string"
           },
           {
            "metadata": {},
            "name": "Total_Services",
            "nullable": false,
            "type": "long"
           },
           {
            "metadata": {},
            "name": "Total_Revenue",
            "nullable": true,
            "type": "long"
           }
          ],
          "type": "struct"
         },
         "tableIdentifier": null,
         "typeStr": "pyspark.sql.connect.dataframe.DataFrame"
        }
       ],
       "dbfsResultPath": null,
       "isJsonSchema": true,
       "metadata": {
        "createTempViewForImplicitDf": true,
        "dataframeName": "_sqldf",
        "executionCount": 66
       },
       "overflow": false,
       "plotOptions": {
        "customPlotOptions": {},
        "displayType": "table",
        "pivotAggregation": null,
        "pivotColumns": null,
        "xColumns": null,
        "yColumns": null
       },
       "removedWidgets": [],
       "schema": [
        {
         "metadata": "{}",
         "name": "Staff_ID",
         "type": "\"string\""
        },
        {
         "metadata": "{}",
         "name": "Total_Services",
         "type": "\"long\""
        },
        {
         "metadata": "{}",
         "name": "Total_Revenue",
         "type": "\"long\""
        }
       ],
       "type": "table"
      }
     },
     "output_type": "display_data"
    },
    {
     "output_type": "display_data",
     "data": {
      "text/plain": [
       "Databricks visualization. Run in Databricks to view."
      ]
     },
     "metadata": {
      "application/vnd.databricks.v1.subcommand+json": {
       "baseErrorDetails": null,
       "bindings": {},
       "collapsed": false,
       "command": "%sql WITH q AS (SELECT Staff_ID, \n       COUNT(*) AS Total_Services, \n       SUM(Amount) AS Total_Revenue\nFROM workspace.default.bookings\nGROUP BY Staff_ID\nORDER BY Total_Revenue DESC) SELECT `Staff_ID`,`Total_Revenue` FROM q",
       "commandTitle": "Visualization 1",
       "commandType": "auto",
       "commandVersion": 0,
       "commentThread": [],
       "commentsVisible": false,
       "contentSha256Hex": null,
       "customPlotOptions": {
        "redashChart": [
         {
          "key": "type",
          "value": "CHART"
         },
         {
          "key": "options",
          "value": {
           "alignYAxesAtZero": true,
           "coefficient": 1,
           "columnConfigurationMap": {
            "x": {
             "column": "Staff_ID",
             "id": "column_3e2970b4199"
            },
            "y": [
             {
              "column": "Total_Revenue",
              "id": "column_3e2970b4201"
             }
            ]
           },
           "dateTimeFormat": "DD/MM/YYYY HH:mm",
           "direction": {
            "type": "counterclockwise"
           },
           "error_y": {
            "type": "data",
            "visible": true
           },
           "globalSeriesType": "bubble",
           "legend": {
            "traceorder": "normal"
           },
           "missingValuesAsZero": true,
           "numBins": 10,
           "numberFormat": "0,0.[00000]",
           "percentFormat": "0[.]00%",
           "series": {
            "error_y": {
             "type": "data",
             "visible": true
            },
            "stacking": null
           },
           "seriesOptions": {
            "Total_Revenue": {
             "color": "#00A972",
             "type": "bubble",
             "yAxis": 0
            },
            "column_3e2970b4196": {
             "name": "Total_Revenue",
             "type": "bubble",
             "yAxis": 0
            },
            "column_3e2970b4201": {
             "type": "bubble",
             "yAxis": 0
            }
           },
           "showDataLabels": false,
           "sizemode": "diameter",
           "sortX": true,
           "sortY": true,
           "swappedAxes": false,
           "textFormat": "",
           "useAggregationsUi": true,
           "valuesOptions": {},
           "version": 2,
           "xAxis": {
            "labels": {
             "enabled": true
            },
            "type": "-"
           },
           "yAxis": [
            {
             "type": "-"
            },
            {
             "opposite": true,
             "type": "-"
            }
           ]
          }
         }
        ]
       },
       "datasetPreviewNameToCmdIdMap": {},
       "diffDeletes": [],
       "diffInserts": [],
       "displayType": "redashChart",
       "error": null,
       "errorDetails": null,
       "errorSummary": null,
       "errorTraceType": null,
       "finishTime": 0,
       "globalVars": {},
       "guid": "",
       "height": "auto",
       "hideCommandCode": false,
       "hideCommandResult": false,
       "iPythonMetadata": null,
       "inputWidgets": {},
       "isLockedInExamMode": false,
       "latestAssumeRoleInfo": null,
       "latestUser": "a user",
       "latestUserId": null,
       "listResultMetadata": null,
       "metadata": {
        "byteLimit": 2048000,
        "implicitDf": true,
        "rowLimit": 10000
       },
       "nuid": "6d05311d-3510-4adf-8746-6a168d25f5b9",
       "origId": 0,
       "parentHierarchy": [],
       "pivotAggregation": null,
       "pivotColumns": null,
       "position": 9.0,
       "resultDbfsErrorMessage": null,
       "resultDbfsStatus": "INLINED_IN_TREE",
       "results": null,
       "showCommandTitle": false,
       "startTime": 0,
       "state": "finished",
       "streamStates": {},
       "subcommandOptions": {
        "queryPlan": {
         "selects": [
          {
           "column": "Staff_ID",
           "type": "column"
          },
          {
           "column": "Total_Revenue",
           "type": "column"
          }
         ]
        }
       },
       "submitTime": 0,
       "subtype": "tableResultSubCmd.visualization",
       "tableResultIndex": 0,
       "tableResultSettingsMap": {},
       "useConsistentColors": false,
       "version": "CommandV1",
       "width": "auto",
       "workflows": [],
       "xColumns": null,
       "yColumns": null
      }
     },
     "output_type": "display_data"
    }
   ],
   "source": [
    "%sql\n",
    "SELECT Staff_ID, \n",
    "       COUNT(*) AS Total_Services, \n",
    "       SUM(Amount) AS Total_Revenue\n",
    "FROM workspace.default.bookings\n",
    "GROUP BY Staff_ID\n",
    "ORDER BY Total_Revenue DESC;"
   ]
  },
  {
   "cell_type": "code",
   "execution_count": 0,
   "metadata": {
    "application/vnd.databricks.v1+cell": {
     "cellMetadata": {
      "byteLimit": 2048000,
      "rowLimit": 10000
     },
     "inputWidgets": {},
     "nuid": "f6c8b0f7-19b6-4adb-8258-40773f50c902",
     "showTitle": false,
     "tableResultSettingsMap": {},
     "title": ""
    }
   },
   "outputs": [
    {
     "output_type": "stream",
     "name": "stdout",
     "output_type": "stream",
     "text": [
      "+------+------------------+\n|Gender|       avg(Amount)|\n+------+------------------+\n|Female|1725.8431372549019|\n|  Male| 1542.204081632653|\n+------+------------------+\n\n"
     ]
    },
    {
     "output_type": "display_data",
     "data": {
      "text/html": [
       "<style scoped>\n",
       "  .table-result-container {\n",
       "    max-height: 300px;\n",
       "    overflow: auto;\n",
       "  }\n",
       "  table, th, td {\n",
       "    border: 1px solid black;\n",
       "    border-collapse: collapse;\n",
       "  }\n",
       "  th, td {\n",
       "    padding: 5px;\n",
       "  }\n",
       "  th {\n",
       "    text-align: left;\n",
       "  }\n",
       "</style><div class='table-result-container'><table class='table-result'><thead style='background-color: white'><tr><th>Gender</th><th>avg(Amount)</th></tr></thead><tbody><tr><td>Female</td><td>1725.8431372549019</td></tr><tr><td>Male</td><td>1542.204081632653</td></tr></tbody></table></div>"
      ]
     },
     "metadata": {
      "application/vnd.databricks.v1+output": {
       "addedWidgets": {},
       "aggData": [],
       "aggError": "",
       "aggOverflow": false,
       "aggSchema": [],
       "aggSeriesLimitReached": false,
       "aggType": "",
       "arguments": {},
       "columnCustomDisplayInfos": {},
       "data": [
        [
         "Female",
         1725.8431372549019
        ],
        [
         "Male",
         1542.204081632653
        ]
       ],
       "datasetInfos": [],
       "dbfsResultPath": null,
       "isJsonSchema": true,
       "metadata": {},
       "overflow": false,
       "plotOptions": {
        "customPlotOptions": {},
        "displayType": "table",
        "pivotAggregation": null,
        "pivotColumns": null,
        "xColumns": null,
        "yColumns": null
       },
       "removedWidgets": [],
       "schema": [
        {
         "metadata": "{}",
         "name": "Gender",
         "type": "\"string\""
        },
        {
         "metadata": "{\"__autoGeneratedAlias\": \"true\"}",
         "name": "avg(Amount)",
         "type": "\"double\""
        }
       ],
       "type": "table"
      }
     },
     "output_type": "display_data"
    },
    {
     "output_type": "display_data",
     "data": {
      "text/plain": [
       "Databricks visualization. Run in Databricks to view."
      ]
     },
     "metadata": {
      "application/vnd.databricks.v1.subcommand+json": {
       "baseErrorDetails": null,
       "bindings": {},
       "collapsed": false,
       "command": "# Gender-based spending\ngender_spend = (bookings.join(customers, \"Customer_ID\")\n    .groupBy(\"Gender\")\n    .agg({\"Amount\":\"sum\", \"Amount\":\"avg\"})\n)\ngender_spend.show()\ngender_spend.display()\n\n",
       "commandTitle": "Visualization 1",
       "commandType": "auto",
       "commandVersion": 0,
       "commentThread": [],
       "commentsVisible": false,
       "contentSha256Hex": null,
       "customPlotOptions": {
        "redashChart": [
         {
          "key": "type",
          "value": "DETAILS"
         },
         {
          "key": "options",
          "value": {
           "columns": [
            {
             "name": "Gender",
             "title": "Gender",
             "type": "string"
            },
            {
             "name": "avg(Amount)",
             "title": "avg(Amount)",
             "type": "float"
            }
           ],
           "version": 1
          }
         }
        ]
       },
       "datasetPreviewNameToCmdIdMap": {},
       "diffDeletes": [],
       "diffInserts": [],
       "displayType": "redashChart",
       "error": null,
       "errorDetails": null,
       "errorSummary": null,
       "errorTraceType": null,
       "finishTime": 0,
       "globalVars": {},
       "guid": "",
       "height": "auto",
       "hideCommandCode": false,
       "hideCommandResult": false,
       "iPythonMetadata": null,
       "inputWidgets": {},
       "isLockedInExamMode": false,
       "latestAssumeRoleInfo": null,
       "latestUser": "a user",
       "latestUserId": null,
       "listResultMetadata": null,
       "metadata": {
        "byteLimit": 2048000,
        "rowLimit": 10000
       },
       "nuid": "e93d76c5-10c8-422a-b131-f2709dea2925",
       "origId": 0,
       "parentHierarchy": [],
       "pivotAggregation": null,
       "pivotColumns": null,
       "position": 10.0,
       "resultDbfsErrorMessage": null,
       "resultDbfsStatus": "INLINED_IN_TREE",
       "results": null,
       "showCommandTitle": false,
       "startTime": 0,
       "state": "finished",
       "streamStates": {},
       "subcommandOptions": {},
       "submitTime": 0,
       "subtype": "tableResultSubCmd.visualization",
       "tableResultIndex": 0,
       "tableResultSettingsMap": {},
       "useConsistentColors": false,
       "version": "CommandV1",
       "width": "auto",
       "workflows": [],
       "xColumns": null,
       "yColumns": null
      }
     },
     "output_type": "display_data"
    }
   ],
   "source": [
    "# Gender-based spending\n",
    "gender_spend = (bookings.join(customers, \"Customer_ID\")\n",
    "    .groupBy(\"Gender\")\n",
    "    .agg({\"Amount\":\"sum\", \"Amount\":\"avg\"})\n",
    ")\n",
    "gender_spend.show()\n",
    "gender_spend.display()\n",
    "\n"
   ]
  }
 ],
 "metadata": {
  "application/vnd.databricks.v1+notebook": {
   "computePreferences": null,
   "dashboards": [
    {
     "elements": [
      {
       "dashboardResultIndex": 0,
       "elementNUID": "5962a3d8-2f08-4f46-9a83-93e12d934fe7",
       "elementType": "command",
       "guid": "0634debf-2214-42b9-8d17-563963f4bceb",
       "options": null,
       "position": {
        "height": 6,
        "width": 12,
        "x": 12,
        "y": 6,
        "z": null
       },
       "resultIndex": null
      },
      {
       "dashboardResultIndex": null,
       "elementNUID": "0a07abee-f49d-47c4-932a-1a0cd7cbebfb",
       "elementType": "command",
       "guid": "36d46e6a-a86f-4257-964c-efed64c54729",
       "options": null,
       "position": {
        "height": 6,
        "width": 12,
        "x": 0,
        "y": 6,
        "z": null
       },
       "resultIndex": null
      },
      {
       "dashboardResultIndex": null,
       "elementNUID": "065ac598-6e57-4d24-8ee7-a949c4118acc",
       "elementType": "command",
       "guid": "5a82bb81-1a05-4c38-9505-4c3b59a4d869",
       "options": null,
       "position": {
        "height": 6,
        "width": 12,
        "x": 0,
        "y": 0,
        "z": null
       },
       "resultIndex": null
      },
      {
       "dashboardResultIndex": null,
       "elementNUID": "01b01856-5585-4292-a992-6a7d609de695",
       "elementType": "command",
       "guid": "64a611ca-a099-4c46-b24f-b091b02b3bbd",
       "options": null,
       "position": {
        "height": 6,
        "width": 12,
        "x": 0,
        "y": 12,
        "z": null
       },
       "resultIndex": null
      },
      {
       "dashboardResultIndex": null,
       "elementNUID": "d5f4f760-121e-4170-b298-7271e61e6d84",
       "elementType": "command",
       "guid": "e3c358f1-2bf1-4218-be1a-e8ce73b88091",
       "options": {
        "autoScaleImg": false,
        "scale": 0,
        "showTitle": false,
        "titleAlign": "center"
       },
       "position": {
        "height": 6,
        "width": 12,
        "x": 12,
        "y": 0,
        "z": null
       },
       "resultIndex": null
      },
      {
       "dashboardResultIndex": null,
       "elementNUID": "e93d76c5-10c8-422a-b131-f2709dea2925",
       "elementType": "command",
       "guid": "fc014288-3220-4822-beac-521f05c3acbd",
       "options": null,
       "position": {
        "height": 6,
        "width": 12,
        "x": 12,
        "y": 12,
        "z": null
       },
       "resultIndex": null
      }
     ],
     "globalVars": {},
     "guid": "",
     "layoutOption": {
      "grid": true,
      "stack": true
     },
     "nuid": "9d381d64-1f97-4491-b1fe-e7f72a95b831",
     "origId": 5074878534455536,
     "title": "Saloon and spa",
     "version": "DashboardViewV1",
     "width": 1024
    }
   ],
   "environmentMetadata": {
    "base_environment": "",
    "environment_version": "3"
   },
   "inputWidgetPreferences": null,
   "language": "python",
   "notebookMetadata": {
    "mostRecentlyExecutedCommandWithImplicitDF": {
     "commandId": 5074878534455535,
     "dataframes": [
      "_sqldf"
     ]
    },
    "pythonIndentUnit": 4
   },
   "notebookName": "24MBMB37 Saloon & spa",
   "widgets": {}
  },
  "language_info": {
   "name": "python"
  }
 },
 "nbformat": 4,
 "nbformat_minor": 0
}